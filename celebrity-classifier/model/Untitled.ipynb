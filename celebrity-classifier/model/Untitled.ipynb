{
 "cells": [
  {
   "cell_type": "code",
   "execution_count": 11,
   "id": "e5c57805-08ac-437d-a2c6-7b1f9e5617b0",
   "metadata": {},
   "outputs": [
    {
     "name": "stdout",
     "output_type": "stream",
     "text": [
      "Failed to convert IMG_0103.HEIC: cannot identify image file 'datasets\\\\hijas\\\\IMG_0103.HEIC'\n",
      "Failed to convert IMG_8819.HEIC: cannot identify image file 'datasets\\\\hijas\\\\IMG_8819.HEIC'\n",
      "Failed to convert IMG_9875.HEIC: cannot identify image file 'datasets\\\\hijas\\\\IMG_9875.HEIC'\n"
     ]
    }
   ],
   "source": [
    "from PIL import Image\n",
    "import os\n",
    "\n",
    "def convert_image_format(input_dir, output_dir, input_format, output_format):\n",
    "    # Create the output directory if it doesn't exist\n",
    "    if not os.path.exists(output_dir):\n",
    "        os.makedirs(output_dir)\n",
    "    \n",
    "    # Iterate through files in the input directory\n",
    "    for filename in os.listdir(input_dir):\n",
    "        if filename.endswith(input_format):\n",
    "            # Open the image\n",
    "            input_path = os.path.join(input_dir, filename)\n",
    "            output_path = os.path.join(output_dir, os.path.splitext(filename)[0] + '.' + output_format)\n",
    "            try:\n",
    "                img = Image.open(input_path)\n",
    "                \n",
    "                # Convert and save the image with the new format\n",
    "                img.save(output_path)\n",
    "                \n",
    "                print(f\"Converted {filename} to {output_format} format.\")\n",
    "            except Exception as e:\n",
    "                print(f\"Failed to convert {filename}: {str(e)}\")\n",
    "\n",
    "# Example usage\n",
    "input_dir = 'datasets\\hijas'\n",
    "output_dir = 'datasets\\hijas'\n",
    "input_format = 'HEIC'  # Change to the desired input format\n",
    "output_format = 'png'  # Change to the desired output format\n",
    "\n",
    "convert_image_format(input_dir, output_dir, input_format, output_format)"
   ]
  },
  {
   "cell_type": "code",
   "execution_count": null,
   "id": "2ee96e84-4029-448b-b251-cab4c1058e2f",
   "metadata": {},
   "outputs": [],
   "source": []
  }
 ],
 "metadata": {
  "kernelspec": {
   "display_name": "Python 3 (ipykernel)",
   "language": "python",
   "name": "python3"
  },
  "language_info": {
   "codemirror_mode": {
    "name": "ipython",
    "version": 3
   },
   "file_extension": ".py",
   "mimetype": "text/x-python",
   "name": "python",
   "nbconvert_exporter": "python",
   "pygments_lexer": "ipython3",
   "version": "3.10.13"
  }
 },
 "nbformat": 4,
 "nbformat_minor": 5
}
