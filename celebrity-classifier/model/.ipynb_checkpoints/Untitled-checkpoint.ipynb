{
 "cells": [
  {
   "cell_type": "code",
   "execution_count": 1,
   "id": "e5c57805-08ac-437d-a2c6-7b1f9e5617b0",
   "metadata": {},
   "outputs": [
    {
     "ename": "SyntaxError",
     "evalue": "(unicode error) 'unicodeescape' codec can't decode bytes in position 2-3: truncated \\UXXXXXXXX escape (4187605074.py, line 26)",
     "output_type": "error",
     "traceback": [
      "\u001b[1;36m  Cell \u001b[1;32mIn[1], line 26\u001b[1;36m\u001b[0m\n\u001b[1;33m    input_dir = 'C:\\Users\\fadilfarash\\OneDrive\\Desktop\\sample_project_ds\\codebasics\\project2-person-classifier\\model\\datasets\\liyamariyam'\u001b[0m\n\u001b[1;37m                                                                                                                                          ^\u001b[0m\n\u001b[1;31mSyntaxError\u001b[0m\u001b[1;31m:\u001b[0m (unicode error) 'unicodeescape' codec can't decode bytes in position 2-3: truncated \\UXXXXXXXX escape\n"
     ]
    }
   ],
   "source": [
    "from PIL import Image\n",
    "import os\n",
    "\n",
    "def convert_image_format(input_dir, output_dir, input_format, output_format):\n",
    "    # Create the output directory if it doesn't exist\n",
    "    if not os.path.exists(output_dir):\n",
    "        os.makedirs(output_dir)\n",
    "    \n",
    "    # Iterate through files in the input directory\n",
    "    for filename in os.listdir(input_dir):\n",
    "        if filename.endswith(input_format):\n",
    "            # Open the image\n",
    "            input_path = os.path.join(input_dir, filename)\n",
    "            output_path = os.path.join(output_dir, os.path.splitext(filename)[0] + '.' + output_format)\n",
    "            try:\n",
    "                img = Image.open(input_path)\n",
    "                \n",
    "                # Convert and save the image with the new format\n",
    "                img.save(output_path)\n",
    "                \n",
    "                print(f\"Converted {filename} to {output_format} format.\")\n",
    "            except Exception as e:\n",
    "                print(f\"Failed to convert {filename}: {str(e)}\")\n",
    "\n",
    "# Example usage\n",
    "input_dir = 'C:\\Users\\fadilfarash\\OneDrive\\Desktop\\sample_project_ds\\codebasics\\project2-person-classifier\\model\\datasets\\liyamariyam'\n",
    "output_dir = 'C:\\Users\\fadilfarash\\OneDrive\\Desktop\\sample_project_ds\\codebasics\\project2-person-classifier\\model\\datasets\\liyamariyam'\n",
    "input_format = 'HEIC'  # Change to the desired input format\n",
    "output_format = 'png'  # Change to the desired output format\n",
    "\n",
    "convert_image_format(input_dir, output_dir, input_format, output_format)"
   ]
  },
  {
   "cell_type": "code",
   "execution_count": null,
   "id": "2ee96e84-4029-448b-b251-cab4c1058e2f",
   "metadata": {},
   "outputs": [],
   "source": []
  }
 ],
 "metadata": {
  "kernelspec": {
   "display_name": "Python 3 (ipykernel)",
   "language": "python",
   "name": "python3"
  },
  "language_info": {
   "codemirror_mode": {
    "name": "ipython",
    "version": 3
   },
   "file_extension": ".py",
   "mimetype": "text/x-python",
   "name": "python",
   "nbconvert_exporter": "python",
   "pygments_lexer": "ipython3",
   "version": "3.10.13"
  }
 },
 "nbformat": 4,
 "nbformat_minor": 5
}
